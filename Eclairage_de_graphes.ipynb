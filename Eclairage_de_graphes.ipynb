{
  "nbformat": 4,
  "nbformat_minor": 0,
  "metadata": {
    "colab": {
      "name": "graphes.ipynb",
      "provenance": [],
      "collapsed_sections": [
        "mWYcdhbqnnsw",
        "YbvG2LMMprgH",
        "HDw6HptEJQRW",
        "ljX_UyCyE5_t"
      ]
    },
    "kernelspec": {
      "name": "python3",
      "display_name": "Python 3"
    }
  },
  "cells": [
    {
      "cell_type": "markdown",
      "metadata": {
        "id": "0cENFWG1Zd1m"
      },
      "source": [
        "\r\n",
        "\r\n",
        "\r\n",
        "## Introduction et objectifs\r\n",
        "La ville est modelisé par une graph planaire, non orienté, non ponderé (place = sommet,\r\n",
        "rue = arête sans se soucier de la longueur des rues). On considérera que\r\n",
        "tous les graphes à traiter sont connexes, en ce sens que l’on peut toujours se rendre d’une place\r\n",
        "à une autre en empruntant une ou plusieurs rues.\r\n",
        "\r\n",
        "\r\n",
        "On se propose d'installer des lampadaire sur certaines places anfin d'éclairer les rues de la ville. Chaque lampadaire éclaire toutes les rues qui partent de cette place.\r\n",
        "\r\n",
        "\r\n"
      ]
    },
    {
      "cell_type": "code",
      "metadata": {
        "id": "JMPdQ62TaUUH"
      },
      "source": [
        "import random"
      ],
      "execution_count": null,
      "outputs": []
    },
    {
      "cell_type": "markdown",
      "metadata": {
        "id": "OhINTN05Zvvo"
      },
      "source": [
        "## Implementation des classes en Python \r\n",
        "On a implémenté deux classes en python, une pour les sommets et une pour les graphes. \r\n",
        "\r\n",
        "## Classe des sommets \r\n",
        "Les sommets sont modélisées par la classe $\\textit{Vertex}$. \r\n",
        "\r\n",
        "Chaque sommet $\\textbf{S}$ a les attributs suivants: son nom (S.id), 1 ou 0 indiquant s'il est allumé ou pas(S.light = 0 ou S.light = 1) et sa liste de voisins (self.adjacent, une liste).\r\n",
        "\r\n",
        "La méthode la plus important est celle d'ajouter un voisin (S.add\\_neigbour())."
      ]
    },
    {
      "cell_type": "code",
      "metadata": {
        "id": "059ibS1aZxD5"
      },
      "source": [
        "class Vertex:\r\n",
        "    def __init__(self, node ):\r\n",
        "        self.id = node\r\n",
        "        self.light = 1\r\n",
        "        self.adjacent = []\r\n",
        "\r\n",
        "    def __str__(self):\r\n",
        "        return str(self.id) + ' adjacent: ' + str([x.id for x in self.adjacent])\r\n",
        "\r\n",
        "    def add_neighbour(self, neighbour):\r\n",
        "        if neighbour not in self.adjacent:\r\n",
        "            self.adjacent.append(neighbour)\r\n",
        "\r\n",
        "    def get_connections(self):\r\n",
        "        return self.adjacent.keys()  \r\n",
        "\r\n",
        "    def get_id(self):\r\n",
        "        return self.id\r\n",
        "\r\n",
        "    \r\n",
        "    def swtich_on(self):\r\n",
        "         self.light = 1\r\n",
        "        \r\n",
        "    def switch_off(self):\r\n",
        "        self.light = 0"
      ],
      "execution_count": null,
      "outputs": []
    },
    {
      "cell_type": "code",
      "metadata": {
        "id": "J6o04RKdZ7F7"
      },
      "source": [
        "V1 = Vertex('V1'); V2 = Vertex('V2')\r\n",
        "V2.switch_off()\r\n",
        "V1.add_neighbour(V2); V2.add_neighbour(V1)\r\n"
      ],
      "execution_count": null,
      "outputs": []
    },
    {
      "cell_type": "code",
      "metadata": {
        "colab": {
          "base_uri": "https://localhost:8080/"
        },
        "id": "wL3pXpZZbCwg",
        "outputId": "c73be897-08d6-46a5-e525-00b4f1cf0fc7"
      },
      "source": [
        "print(V1,'; V1.light=',V1.light)\r\n",
        "print(V2,'; V2.light=',V2.light)\r\n"
      ],
      "execution_count": null,
      "outputs": [
        {
          "output_type": "stream",
          "text": [
            "V1 adjacent: ['V2'] ; V1.light= 1\n",
            "V2 adjacent: ['V1'] ; V2.light= 0\n"
          ],
          "name": "stdout"
        }
      ]
    },
    {
      "cell_type": "markdown",
      "metadata": {
        "id": "hLY3jcvLcxim"
      },
      "source": [
        "\r\n",
        "## Classe des graphes \r\n",
        "En utilisant la classe $\\textit{Vertex}$\r\n",
        "on crée une classe pour les graphes. \r\n",
        "Chaque graph est représenté par un dictionaire de sommets. Un élément du dictionaire a comme clé le nom du sommet (un entier ou un string par example) et comme valeur un object de type Vertex. \r\n",
        "\r\n",
        "Un graph $\\textbf{G}$ a aussi les attributs suivants: G.num\\_vertices , G.edges (une liste où les arêtes sont réprésenté par des sets, afin que l'ordre ne compte pas) et G.vert\\_dict (le dictionaire décrit ci-dessus).\r\n",
        "\r\n",
        "Quelques méthodes importantes: \r\n",
        "\r\n",
        "add\\_vertex(nom, lumiere) // lumiere = 0 ou 1\r\n",
        "\r\n",
        "\r\n",
        "add\\_edge(nom1, nom2 , lumière1 , lumière2 ) //les lumières sont choisies par hasard si elles ne sont pas spécifiées\r\n",
        "\r\n",
        "how\\_many\\_lights() // compte les lumière  = 1\r\n",
        "\r\n",
        "switch\\_on(nom\\_du\\_sommet) , switch\\_off(nom\\_du\\_sommet)\r\n",
        "\r\n",
        "Rq: Vous povez rémarquer la méthode is_min_lit_special. Cela devient très important plus tard.\r\n"
      ]
    },
    {
      "cell_type": "code",
      "metadata": {
        "id": "pmC7DuLOc7cB"
      },
      "source": [
        "\r\n",
        "class Graph:\r\n",
        "    def __init__(self):\r\n",
        "        self.vert_dict = {}\r\n",
        "        self.num_vertices = 0\r\n",
        "        self.edges = []\r\n",
        "        \r\n",
        "\r\n",
        "    def __iter__(self):\r\n",
        "        return iter(self.vert_dict.values())\r\n",
        "\r\n",
        "    def add_vertex(self, node, light):\r\n",
        "        self.num_vertices = self.num_vertices + 1\r\n",
        "        new_vertex = Vertex(node)\r\n",
        "        self.vert_dict[node] = new_vertex\r\n",
        "        self.vert_dict[node].light = light\r\n",
        "        return new_vertex\r\n",
        "\r\n",
        "    def get_vertex(self, n):\r\n",
        "        if n in self.vert_dict:\r\n",
        "            return self.vert_dict[n]\r\n",
        "        else:\r\n",
        "            return None\r\n",
        "\r\n",
        "    def add_edge(self, frm, to, frm_l = random.randrange(2), to_l= random.randrange(2)):\r\n",
        "        if frm not in self.vert_dict:\r\n",
        "            self.add_vertex(frm,frm_l)\r\n",
        "        if to not in self.vert_dict:\r\n",
        "            self.add_vertex(to,to_l)\r\n",
        "\r\n",
        "        self.vert_dict[frm].add_neighbour(self.vert_dict[to])\r\n",
        "        self.vert_dict[to].add_neighbour(self.vert_dict[frm])\r\n",
        "        self.edges.append({frm,to})\r\n",
        "\r\n",
        "    def get_vertices(self):\r\n",
        "        return self.vert_dict.keys()\r\n",
        "    \r\n",
        "    def how_many_lights(self):\r\n",
        "        count = 0\r\n",
        "        for node in self.vert_dict.keys():\r\n",
        "            if self.vert_dict[node].light ==1:\r\n",
        "                count= count+1\r\n",
        "        return count\r\n",
        "    \r\n",
        "    def lit_lists(self):\r\n",
        "        lit_dict = {}\r\n",
        "        vertex_list = []\r\n",
        "        light_list = []\r\n",
        "        for node in self.vert_dict.keys():\r\n",
        "            lit_dict[node] = self.vert_dict[node].light\r\n",
        "            vertex_list.append(node)\r\n",
        "            light_list.append(self.vert_dict[node].light)\r\n",
        "        \r\n",
        "        return lit_dict, vertex_list, light_list\r\n",
        "            \r\n",
        "        \r\n",
        "    \r\n",
        "    def lit_dict_neighbour(self):\r\n",
        "        lit_dict = {}\r\n",
        "        for node in self.vert_dict.keys():\r\n",
        "            lit_node = 0\r\n",
        "            lit_neighbour = 0\r\n",
        "            for neighbour in self.vert_dict[node].adjacent:\r\n",
        "            #for neighbour in self.vert_dict[node].adjacent.keys():\r\n",
        "                if neighbour.light == 1:\r\n",
        "                    lit_neighbour = 1\r\n",
        "            if self.vert_dict[node].light == 1 or lit_neighbour ==1:\r\n",
        "                lit_node = 1\r\n",
        "            else:\r\n",
        "                lit_node = 0\r\n",
        "            lit_dict[node] = lit_node\r\n",
        "            \r\n",
        "        \r\n",
        "        return lit_dict\r\n",
        "    \r\n",
        "    def is_lit_node(self):\r\n",
        "        lit_dict = self.lit_dict_neighbour()\r\n",
        "        if 0 in lit_dict.values():\r\n",
        "            return 0\r\n",
        "        else:\r\n",
        "            return 1\r\n",
        "        \r\n",
        "        \r\n",
        "    def switch_off(self,i):\r\n",
        "        self.vert_dict[i].light = 0\r\n",
        "    \r\n",
        "    def switch_on(self,i):\r\n",
        "        self.vert_dict[i].light = 1\r\n",
        "    \r\n",
        "    \r\n",
        "    def is_opti_lit_nodes(self):\r\n",
        "        ok = 1\r\n",
        "        if self.is_lit() == 0:\r\n",
        "            return 0\r\n",
        "        \r\n",
        "        #check is the leaves are lit -> they can be always off\r\n",
        "        #in a minimally lit graph\r\n",
        "        \r\n",
        "        for node in self.vert_dict.keys():\r\n",
        "            if len(self.vert_dict[node].adjacent) == 1:\r\n",
        "                if self.vert_dict[node].light == 1:\r\n",
        "                    ok = 0\r\n",
        "                    \r\n",
        "        #check if it's optimally lit\r\n",
        "                    \r\n",
        "        for node in self.vert_dict.keys():\r\n",
        "            if self.vert_dict[node].light == 1:\r\n",
        "                self.vert_dict[node].light = 0\r\n",
        "                if self.is_lit() == 1:\r\n",
        "                    ok = 0\r\n",
        "                self.vert_dict[node].light = 1\r\n",
        "        if ok == 0:\r\n",
        "            return 0\r\n",
        "        else:\r\n",
        "            return 1\r\n",
        "    \r\n",
        "    \r\n",
        "    def is_lit(self):\r\n",
        "        #checks if every street is enlightened\r\n",
        "        ok = 1\r\n",
        "        for edge in self.edges:\r\n",
        "            l = list(edge)\r\n",
        "            \r\n",
        "            if self.vert_dict[l[0]].light == 0 and self.vert_dict[l[1]].light == 0:\r\n",
        "                ok = 0\r\n",
        "        return ok\r\n",
        "    \r\n",
        "    def is_min_lit(self):\r\n",
        "        #enlever un lampadaire plonge au moins une rue dans l'obscurite\r\n",
        "        if self.is_lit() == 0:\r\n",
        "            return 0\r\n",
        "        ok = 1\r\n",
        "        for node in self.vert_dict.keys():\r\n",
        "            if self.vert_dict[node].light == 1:\r\n",
        "                self.switch_off(node)\r\n",
        "                if self.is_lit() == 1:\r\n",
        "                    ok = 0\r\n",
        "                self.switch_on(node)\r\n",
        "        return ok\r\n",
        "\r\n",
        "      \r\n",
        "    def is_min_lit_special(self):\r\n",
        "        #enlever un lampadaire plonge au moins une rue dans l'obscurite\r\n",
        "        if self.is_lit() == 0:\r\n",
        "            return 0\r\n",
        "\r\n",
        "        for node in self.vert_dict.keys():\r\n",
        "            if self.vert_dict[node].light == 1:\r\n",
        "                self.switch_off(node)\r\n",
        "                if self.is_lit() == 1:\r\n",
        "                    return 0\r\n",
        "                self.switch_on(node)\r\n",
        "        return 1\r\n",
        "    \r\n",
        "    def switch_graph_on(self):\r\n",
        "        for i in self.vert_dict.keys():\r\n",
        "            self.vert_dict[i].light = 1\r\n",
        "                \r\n",
        "                "
      ],
      "execution_count": null,
      "outputs": []
    },
    {
      "cell_type": "markdown",
      "metadata": {
        "id": "uev_3vXgc_pB"
      },
      "source": [
        "#### Examples de graphs"
      ]
    },
    {
      "cell_type": "code",
      "metadata": {
        "id": "InpaA0_ydDRX"
      },
      "source": [
        "g = Graph()\r\n",
        "\r\n",
        "g.add_vertex('a',0)\r\n",
        "g.add_vertex('b',0)\r\n",
        "g.add_vertex('c',1)\r\n",
        "g.add_vertex('d',0)\r\n",
        "g.add_vertex('e',1)\r\n",
        "g.add_vertex('f',0)\r\n",
        "\r\n",
        "g.add_edge('a', 'b')  \r\n",
        "g.add_edge('a', 'c')\r\n",
        "g.add_edge('a', 'f')\r\n",
        "g.add_edge('b', 'c')\r\n",
        "g.add_edge('b', 'd')\r\n",
        "g.add_edge('c', 'd')\r\n",
        "g.add_edge('c', 'f')\r\n",
        "g.add_edge('d', 'e')\r\n",
        "g.add_edge('e', 'f')\r\n",
        "g.add_edge('a','b')"
      ],
      "execution_count": null,
      "outputs": []
    },
    {
      "cell_type": "code",
      "metadata": {
        "colab": {
          "base_uri": "https://localhost:8080/"
        },
        "id": "7q6U22dIdZtZ",
        "outputId": "b1d304b0-4626-4005-c893-c4ef3002d4cf"
      },
      "source": [
        "for i in g.vert_dict.values():\r\n",
        "  print(i,'; lumiere de ',i.id, '=',i.light)"
      ],
      "execution_count": null,
      "outputs": [
        {
          "output_type": "stream",
          "text": [
            "a adjacent: ['b', 'c', 'f'] ; lumiere de  a = 0\n",
            "b adjacent: ['a', 'c', 'd'] ; lumiere de  b = 0\n",
            "c adjacent: ['a', 'b', 'd', 'f'] ; lumiere de  c = 1\n",
            "d adjacent: ['b', 'c', 'e'] ; lumiere de  d = 0\n",
            "e adjacent: ['d', 'f'] ; lumiere de  e = 1\n",
            "f adjacent: ['a', 'c', 'e'] ; lumiere de  f = 0\n"
          ],
          "name": "stdout"
        }
      ]
    },
    {
      "cell_type": "code",
      "metadata": {
        "colab": {
          "base_uri": "https://localhost:8080/"
        },
        "id": "As-t9QQ2dpTK",
        "outputId": "895f0d04-4dff-48df-c99b-72b6ce312fbe"
      },
      "source": [
        "if g.is_lit()==0:\r\n",
        "  print(\"g n'est pas éclairé\")\r\n",
        "else:\r\n",
        "  print(\"g est éclairé\" )\r\n",
        "\r\n"
      ],
      "execution_count": null,
      "outputs": [
        {
          "output_type": "stream",
          "text": [
            "g n'est pas éclairé\n"
          ],
          "name": "stdout"
        }
      ]
    },
    {
      "cell_type": "code",
      "metadata": {
        "colab": {
          "base_uri": "https://localhost:8080/"
        },
        "id": "9qit4LQLe5jP",
        "outputId": "34e8ad3e-a813-4b68-a27a-27a87c5504fb"
      },
      "source": [
        "print('on allume quelques lampadaires')\r\n",
        "g.switch_on('f'); g.switch_on('a');g.switch_on('d')\r\n",
        "if g.is_lit()==0:\r\n",
        "  print(\"g n'est pas éclairé\")\r\n",
        "else:\r\n",
        "  print(\"Maintenant g est éclairé\" )"
      ],
      "execution_count": null,
      "outputs": [
        {
          "output_type": "stream",
          "text": [
            "on allume quelques lampadaires\n",
            "Maintenant g est éclairé\n"
          ],
          "name": "stdout"
        }
      ]
    },
    {
      "cell_type": "code",
      "metadata": {
        "id": "gfdQk-uVdXvR"
      },
      "source": [
        "    f = Graph()\r\n",
        "    \r\n",
        "    f.add_vertex(1,0)\r\n",
        "    f.add_vertex(2,1)\r\n",
        "    f.add_vertex(3,0)\r\n",
        "    f.add_vertex(4,0)\r\n",
        "    f.add_vertex(5,1)\r\n",
        "    f.add_vertex(6,1)\r\n",
        "    f.add_vertex(7,1)\r\n",
        "    \r\n",
        "    f.add_edge(1, 2)\r\n",
        "    f.add_edge(2, 3)\r\n",
        "    f.add_edge(4, 2)\r\n",
        "    f.add_edge(4, 5)\r\n",
        "    f.add_edge(4, 6)\r\n",
        "    f.add_edge(5, 6)\r\n",
        "    f.add_edge(6, 7)\r\n",
        "    f.add_edge(4, 7)"
      ],
      "execution_count": null,
      "outputs": []
    },
    {
      "cell_type": "code",
      "metadata": {
        "colab": {
          "base_uri": "https://localhost:8080/"
        },
        "id": "KG4D7KylfoCY",
        "outputId": "01990699-5c64-47bf-b4da-0e8cabc13098"
      },
      "source": [
        "for i in f.vert_dict.values():\r\n",
        "  print(i,'; lumiere de ',i.id, '=',i.light)"
      ],
      "execution_count": null,
      "outputs": [
        {
          "output_type": "stream",
          "text": [
            "1 adjacent: [2] ; lumiere de  1 = 0\n",
            "2 adjacent: [1, 3, 4] ; lumiere de  2 = 1\n",
            "3 adjacent: [2] ; lumiere de  3 = 0\n",
            "4 adjacent: [2, 5, 6, 7] ; lumiere de  4 = 0\n",
            "5 adjacent: [4, 6] ; lumiere de  5 = 1\n",
            "6 adjacent: [4, 5, 7] ; lumiere de  6 = 1\n",
            "7 adjacent: [6, 4] ; lumiere de  7 = 1\n"
          ],
          "name": "stdout"
        }
      ]
    },
    {
      "cell_type": "code",
      "metadata": {
        "colab": {
          "base_uri": "https://localhost:8080/"
        },
        "id": "hYHnQpKdfCLf",
        "outputId": "6c7d2ad2-1db0-4e00-bac5-f0dce62291c7"
      },
      "source": [
        "if g.is_lit()==0:\r\n",
        "  print(\"f n'est pas éclairé\")\r\n",
        "else:\r\n",
        "  print(\"f est éclairé\" )\r\n",
        "\r\n",
        "if f.is_min_lit()==1:\r\n",
        "  print(\"L'éclairage de f est minimale \")\r\n",
        "else:\r\n",
        "  print(\"L'éclairage de f n'est pas minimale\")"
      ],
      "execution_count": null,
      "outputs": [
        {
          "output_type": "stream",
          "text": [
            "f est éclairé\n",
            "L'éclairage de f est minimale \n"
          ],
          "name": "stdout"
        }
      ]
    },
    {
      "cell_type": "markdown",
      "metadata": {
        "id": "5613RwZXgeVN"
      },
      "source": [
        "## Engendrer un graph connexe avec N sommets et R arêtes \r\n",
        "\r\n",
        "On se pose le problème d'engendrer un graphe connexe avec N sommets et R arêtes au hasard.\r\n",
        "Un grapphe connexe avec N sommets peut avour un nombre d'arêtes entre N-1 et (N-1)N/2.\r\n",
        "\r\n",
        "Afin de bien engendrer le graph voulu on utilise l'algorithme prochain:\r\n",
        "\r\n",
        "\r\n",
        "A0. créer un graph \r\n",
        "\r\n",
        "A1. ajouter un sommet \r\n",
        "\r\n",
        "A2. Itérer jusqu'à  le dernier sommet soit ajouté: choisir un sommet par hasard parmi les uns déjà ajoutés $\\textbf{r}$. Ajoute un nouveau sommet $\\textbf{s}$ et ajoute une arête entre $\\textbf{r}$ et $\\textbf{s}$.\r\n",
        "\r\n",
        "A3. S'il reste des arêtes à ajouter faire une boucle avec les instructions: choisir deux sommets par hasard qui ne sont pas connectés et en ajoute une arêtes. \r\n",
        "\r\n",
        "\r\n",
        "### Complexité \r\n",
        "\r\n",
        "\r\n",
        "A0: O(1) créer une dictionaire, un entier et une liste vide \r\n",
        "\r\n",
        "A1: O(1); on ajoute un élements dans un dictionaire, additioner 1, définir un entier 0 ou 1 (pour la valeur de la lumiére)\r\n",
        "\r\n",
        "A2+A3: O(R) On fait N fois: A1 + ajouter une arête, i.e. ajouter une voisin à $\\textbf{r}$\r\n",
        "et une voisin à $\\textbf{s}$ (s.adjacent.append(r), r.adjacent.append(s)). Puis on ajoute R-N arêtes.\r\n",
        "\r\n",
        "La compléxité est O(R)\r\n"
      ]
    },
    {
      "cell_type": "code",
      "metadata": {
        "id": "n8YRcgymg-we"
      },
      "source": [
        "\r\n",
        "\r\n",
        "def con_graf(nr_nodes,nr_edges):\r\n",
        "    \"\"\"  engendre un graphe connexe \r\n",
        "    \"\"\"\r\n",
        "    if nr_edges < nr_nodes-1 or nr_edges > nr_nodes*(nr_nodes-1)/2:\r\n",
        "        print('nr_edges not in [nr_nodes - 1, nr_nodes*(nr_nodes-1)/2 ]')\r\n",
        "        return 0\r\n",
        "\r\n",
        "    fop = Graph()\r\n",
        "    fop_l = []\r\n",
        "    fop.add_vertex(0, random.randrange(2))\r\n",
        "    for i in range(1,nr_nodes):\r\n",
        "        r = random.choice(list(fop.vert_dict.keys()))\r\n",
        "        fop.add_vertex(i, random.randrange(2))\r\n",
        "        fop.add_edge(i,r)\r\n",
        "        fop_l.append((i,r))\r\n",
        "        fop_l.append((r,i))\r\n",
        "        \r\n",
        "        \r\n",
        "    for i in range(nr_nodes-1, nr_edges):\r\n",
        "        fr = random.choice(list(fop.vert_dict.keys()))\r\n",
        "        to = random.choice(list(fop.vert_dict.keys()))\r\n",
        "        while to == fr:\r\n",
        "            to = random.choice(list(fop.vert_dict.keys()))\r\n",
        "        \r\n",
        "        while (fr,to) in fop_l:\r\n",
        "            fr = random.choice(list(fop.vert_dict.keys()))\r\n",
        "            to = random.choice(list(fop.vert_dict.keys()))\r\n",
        "            while to == fr:\r\n",
        "                to = random.choice(list(fop.vert_dict.keys()))\r\n",
        "        \r\n",
        "        fop.add_edge(fr, to)\r\n",
        "        fop_l.append((fr,to))\r\n",
        "        fop_l.append((to,fr))\r\n",
        "    return fop"
      ],
      "execution_count": null,
      "outputs": []
    },
    {
      "cell_type": "code",
      "metadata": {
        "colab": {
          "base_uri": "https://localhost:8080/"
        },
        "id": "bgG44Wo9hNZx",
        "outputId": "4d1b1d48-84d0-4e1d-88a8-992ec5962681"
      },
      "source": [
        "gr = con_graf(6,9)\r\n",
        "for i in gr.vert_dict.values():\r\n",
        "  print(i,'; lumiere de ',i.id, '=',i.light)"
      ],
      "execution_count": null,
      "outputs": [
        {
          "output_type": "stream",
          "text": [
            "0 adjacent: [1, 2, 3, 5] ; lumiere de  0 = 0\n",
            "1 adjacent: [0, 2, 3, 5] ; lumiere de  1 = 0\n",
            "2 adjacent: [0, 1] ; lumiere de  2 = 1\n",
            "3 adjacent: [0, 4, 5, 1] ; lumiere de  3 = 1\n",
            "4 adjacent: [3] ; lumiere de  4 = 1\n",
            "5 adjacent: [0, 3, 1] ; lumiere de  5 = 1\n"
          ],
          "name": "stdout"
        }
      ]
    },
    {
      "cell_type": "markdown",
      "metadata": {
        "id": "k5lVwneDhvZC"
      },
      "source": [
        "\r\n",
        "## Vérifier si un graph est éclairé\r\n",
        "\r\n",
        "\r\n",
        "\r\n",
        "Un objectif principal est de vérifier si le graph \\textbf{G} est éclairé. Il est éclairer si toutes les arêtes sont éclairées, càd chaque arête est connectée à au moins un sommet éclairé.\r\n",
        "\r\n",
        "G.edges est la liste d'arêtes où chaque arête est représenté par un set \\{$\\textbf{r}, \\textbf{s}  \\}$. On va chercher si il y a au moins une arêtes dans G.edges pour laquelle r ou s n'est pas allumé.\r\n",
        "\r\n",
        "### Complexité \r\n",
        "La complexité est O(N) où N est la longeur de G.edges.\r\n"
      ]
    },
    {
      "cell_type": "code",
      "metadata": {
        "colab": {
          "base_uri": "https://localhost:8080/"
        },
        "id": "AkDOp5opiHJf",
        "outputId": "f64810ec-d77c-4f57-c4f4-3210e43fc230"
      },
      "source": [
        "for i in g.vert_dict.values():\r\n",
        "  print(i,'; lumiere de ',i.id, '=',i.light)\r\n",
        "\r\n"
      ],
      "execution_count": null,
      "outputs": [
        {
          "output_type": "stream",
          "text": [
            "a adjacent: ['b', 'c', 'f'] ; lumiere de  a = 1\n",
            "b adjacent: ['a', 'c', 'd'] ; lumiere de  b = 0\n",
            "c adjacent: ['a', 'b', 'd', 'f'] ; lumiere de  c = 1\n",
            "d adjacent: ['b', 'c', 'e'] ; lumiere de  d = 1\n",
            "e adjacent: ['d', 'f'] ; lumiere de  e = 1\n",
            "f adjacent: ['a', 'c', 'e'] ; lumiere de  f = 1\n"
          ],
          "name": "stdout"
        }
      ]
    },
    {
      "cell_type": "code",
      "metadata": {
        "colab": {
          "base_uri": "https://localhost:8080/"
        },
        "id": "ifDhYg71iVPp",
        "outputId": "4c9d927f-2d5d-443b-c177-966b14513ffc"
      },
      "source": [
        "if g.is_lit()==0:\r\n",
        "  print(\"g n'est pas éclairé\")\r\n",
        "else:\r\n",
        "  print(\"g est éclairé\" )"
      ],
      "execution_count": null,
      "outputs": [
        {
          "output_type": "stream",
          "text": [
            "g est éclairé\n"
          ],
          "name": "stdout"
        }
      ]
    },
    {
      "cell_type": "code",
      "metadata": {
        "colab": {
          "base_uri": "https://localhost:8080/"
        },
        "id": "79hYhabWiSDr",
        "outputId": "9646279f-64d5-4aff-dec2-db90f1960677"
      },
      "source": [
        "print('on allume quelques lampadaires')\r\n",
        "g.switch_on('f'); g.switch_on('a');g.switch_on('d')\r\n",
        "if g.is_lit()==0:\r\n",
        "  print(\"g n'est pas éclairé\")\r\n",
        "else:\r\n",
        "  print(\"Maintenant g est éclairé\" )"
      ],
      "execution_count": null,
      "outputs": [
        {
          "output_type": "stream",
          "text": [
            "on allume quelques lampadaires\n",
            "Maintenant g est éclairé\n"
          ],
          "name": "stdout"
        }
      ]
    },
    {
      "cell_type": "markdown",
      "metadata": {
        "id": "1e0NL0BvivzB"
      },
      "source": [
        "Remarque: Une fois qu'on a allumé les lampadaire en utilisant 'g.switch_on(sommet), le graphe va rester modifié. Pour récouperer la forme initiale on peut reutilisé la cellule où on a définié g, où bien utiliser la méthode 'g.switch_off(sommet)'."
      ]
    },
    {
      "cell_type": "code",
      "metadata": {
        "colab": {
          "base_uri": "https://localhost:8080/"
        },
        "id": "kbFH3pYQih2X",
        "outputId": "bb332a6e-b4d9-4e23-e5b0-a5fbb65d9f35"
      },
      "source": [
        "g.switch_off('f'); g.switch_off('a');g.switch_off('d')\r\n",
        "if g.is_lit()==0:\r\n",
        "  print(\"g n'est pas éclairé\")\r\n",
        "else:\r\n",
        "  print(\"Maintenant g est éclairé\" )"
      ],
      "execution_count": null,
      "outputs": [
        {
          "output_type": "stream",
          "text": [
            "g n'est pas éclairé\n"
          ],
          "name": "stdout"
        }
      ]
    },
    {
      "cell_type": "markdown",
      "metadata": {
        "id": "8sS10iSHjwqn"
      },
      "source": [
        "On peut également utiliser notre façon d'engendrer des graphes connexes aléatorie, qui est trés pratique pour engendrer des graphes de grandes dimensions. Les lumiéres sont choisi uniformement par hasard. "
      ]
    },
    {
      "cell_type": "code",
      "metadata": {
        "colab": {
          "base_uri": "https://localhost:8080/"
        },
        "id": "I9x_s-C6kZOy",
        "outputId": "e7c5bef1-5c6c-42fb-da49-b5e265ad532f"
      },
      "source": [
        "fr = con_graf(500,800)\r\n",
        "fr.is_lit()"
      ],
      "execution_count": null,
      "outputs": [
        {
          "output_type": "execute_result",
          "data": {
            "text/plain": [
              "0"
            ]
          },
          "metadata": {
            "tags": []
          },
          "execution_count": 20
        }
      ]
    },
    {
      "cell_type": "markdown",
      "metadata": {
        "id": "Gu08hkd_koNH"
      },
      "source": [
        "On peut vérifier quelle est la chance d'engendre un graphe éclairé.\r\n"
      ]
    },
    {
      "cell_type": "code",
      "metadata": {
        "id": "kPJqz0vSkwU-"
      },
      "source": [
        "S = 0\r\n",
        "for i in range(10000):\r\n",
        "  fr = con_graf(100,300)\r\n",
        "  if fr.is_lit() == 1:\r\n",
        "    S+=1"
      ],
      "execution_count": null,
      "outputs": []
    },
    {
      "cell_type": "code",
      "metadata": {
        "colab": {
          "base_uri": "https://localhost:8080/"
        },
        "id": "WzwafjCtlLe6",
        "outputId": "70e2de58-3b7a-43bb-e2fb-30f68af4c29d"
      },
      "source": [
        "print(S)\r\n",
        "print(S/10000)\r\n"
      ],
      "execution_count": null,
      "outputs": [
        {
          "output_type": "stream",
          "text": [
            "0\n",
            "0.0\n"
          ],
          "name": "stdout"
        }
      ]
    },
    {
      "cell_type": "code",
      "metadata": {
        "id": "CowNpBzOlr1L"
      },
      "source": [
        "K = 0\r\n",
        "for i in range(10000):\r\n",
        "  fr = con_graf(10,30)\r\n",
        "  if fr.is_lit() == 1:\r\n",
        "    K+=1"
      ],
      "execution_count": null,
      "outputs": []
    },
    {
      "cell_type": "code",
      "metadata": {
        "colab": {
          "base_uri": "https://localhost:8080/"
        },
        "id": "vT4hRdNdlwMr",
        "outputId": "555bc946-b089-4c70-e48f-c7b600f45dc4"
      },
      "source": [
        "print(K/10000)"
      ],
      "execution_count": null,
      "outputs": [
        {
          "output_type": "stream",
          "text": [
            "0.0297\n"
          ],
          "name": "stdout"
        }
      ]
    },
    {
      "cell_type": "markdown",
      "metadata": {
        "id": "Xm-1mufrmWlR"
      },
      "source": [
        "On observe qu'engendrer un graphe allumé est plus probable lorsque le graph est petit. Pourtant, même pour des graph petits avec 10 sommet et 30 arêtes il est presque impossible"
      ]
    },
    {
      "cell_type": "markdown",
      "metadata": {
        "id": "mWYcdhbqnnsw"
      },
      "source": [
        "\r\n",
        "## Borne supérieur du nombre de lampadaires\r\n",
        "On peut trouver facilement une borne supérieur du nombre de lampadaires allumés pour un graph connexe avec N sommets et R arêtes.\r\n",
        "\r\n",
        "\r\n",
        "$\\textbf{Prop:} $\r\n",
        "$\r\n",
        "B = max(  \\ceil*{\\frac{R}{2}}, N-1)\r\n",
        "$ est une borne supérieru du nombre de lampadaires dans une graphe connexe éclairé.\r\n",
        "\r\n",
        "$\\textbf{Démonstration}$: R est le nombre d'arêtes. Chaque arête est connecté à exactement deux sommets differents. Si R est pair, on peut distribuer R/2 lampadaires tel que chaque arête est connecté au moins à un lampadaire. Si R est impaire on a besoin de $\\floor*{\\frac{R}{2}}$ lampadaire pour éclairer R-1 rues. Pour être sûr qu'on a éclairé R rues on ajoute un lampadaire.\r\n",
        "Si N-1 de lampadaire sont allumé il est claire que tout le graph est éclairé. C'est en fait le cas d'un éclairage optimal pour un graph avec N(N-1)/2 arêtes."
      ]
    },
    {
      "cell_type": "markdown",
      "metadata": {
        "id": "P8Vouy4CoccU"
      },
      "source": [
        "\r\n",
        "## Vérifier si un éclairage est minimal\r\n",
        "\r\n",
        "\r\n",
        "Un éclairage est minimal si le fait d’enlever\r\n",
        "un lampadaire plonge au moins une rue dans l’obscurité.\r\n",
        "\r\n",
        "On écrit l'algorithm dans la maniére suivantes:\r\n",
        "\r\n",
        "M1: Si le graph n'est pas éclairé, alors il n'est pas une solution (minimal)\r\n",
        "\r\n",
        "M2: Si on trouve un sommet allumé on l'éteint et si le graph reste éclairé alors la solution n'est pas minimal\r\n",
        "\r\n",
        "### Complexité\r\n",
        "M1: O(R) où R est le nombre d'arêtes\r\n",
        "\r\n",
        "M2: O(RN) où N est le nombre de sommets et R est le nombre d'arêtes.\r\n",
        "\r\n",
        "Donc la complexité est O(RN).\r\n",
        "\r\n",
        "\r\n"
      ]
    },
    {
      "cell_type": "markdown",
      "metadata": {
        "id": "_xTbO1g5pKH5"
      },
      "source": [
        "On se souvient du graphe f qu'on a définie au dessus."
      ]
    },
    {
      "cell_type": "code",
      "metadata": {
        "colab": {
          "base_uri": "https://localhost:8080/"
        },
        "id": "wzaVdjocokBE",
        "outputId": "408e39bc-fc5f-44da-acf8-3e34cf79eab9"
      },
      "source": [
        "for i in f.vert_dict.values():\r\n",
        "  print(i,'; lumiere de ',i.id, '=',i.light)"
      ],
      "execution_count": null,
      "outputs": [
        {
          "output_type": "stream",
          "text": [
            "1 adjacent: [2] ; lumiere de  1 = 0\n",
            "2 adjacent: [1, 3, 4] ; lumiere de  2 = 1\n",
            "3 adjacent: [2] ; lumiere de  3 = 0\n",
            "4 adjacent: [2, 5, 6, 7] ; lumiere de  4 = 0\n",
            "5 adjacent: [4, 6] ; lumiere de  5 = 1\n",
            "6 adjacent: [4, 5, 7] ; lumiere de  6 = 1\n",
            "7 adjacent: [6, 4] ; lumiere de  7 = 1\n"
          ],
          "name": "stdout"
        }
      ]
    },
    {
      "cell_type": "code",
      "metadata": {
        "colab": {
          "base_uri": "https://localhost:8080/"
        },
        "id": "dhclZZxppHwe",
        "outputId": "198a3dcf-d1e6-45ef-ddab-65376824f914"
      },
      "source": [
        "if f.is_lit()==0:\r\n",
        "  print(\"f n'est pas éclairé\")\r\n",
        "else:\r\n",
        "  print(\"f est éclairé\" )\r\n",
        "\r\n",
        "if f.is_min_lit()==1:\r\n",
        "  print(\"L'éclairage de f est minimale \")\r\n",
        "else:\r\n",
        "  print(\"L'éclairage de f n'est pas minimale\")"
      ],
      "execution_count": null,
      "outputs": [
        {
          "output_type": "stream",
          "text": [
            "f est éclairé\n",
            "L'éclairage de f est minimale \n"
          ],
          "name": "stdout"
        }
      ]
    },
    {
      "cell_type": "markdown",
      "metadata": {
        "id": "YbvG2LMMprgH"
      },
      "source": [
        "\r\n",
        "### Observations sur les solutions minimales et optimales\r\n",
        "\r\n",
        "### Chaque solution optimal est minimal\r\n",
        "Une solution est optimal si le graph est éclairé utilisant le plus petit nombre de lampadaires possible. On rappel que le but du projet est de trouver ou rapprocher une telle solution pour un graphe connexe quelconque.\r\n",
        "\r\n",
        "Verifier si une solution est optimale n'est pas facile. Une condition nécessaire est que la solution soit minimale. \r\n",
        "\r\n",
        "$\\textbf{Prop:} $ Tout solution optimal est minimal.\r\n",
        "\r\n",
        "$\\textbf{Démonstration}$\r\n",
        "Supposons que S est une solution optimal et pas minimal.\r\n",
        "\r\n",
        "Alors il existe un sommet qui peut être éteint gardant en même temps le graphe éclairé. On a donc trouver une solution qui nécessite moins de lampandaire. Alors, la solution de départ n'est pas optimal qui est une contradiction.\r\n",
        "\r\n"
      ]
    },
    {
      "cell_type": "markdown",
      "metadata": {
        "id": "HDw6HptEJQRW"
      },
      "source": [
        "\r\n",
        "### Chaque solution optimal est équivalent à une solution optimal où toutes les feuilles sont éteintes\r\n",
        "\r\n",
        "$\\textbf{Prop:}$ Chaque solution optimal est équivalent à une solution optimal où toutes les feuilles sont éteintes\r\n",
        "\r\n",
        "$\\textbf{Démonstration:}$ Si la solution est optimale alors elle est minimale, càd si une feuille est allumée et on l'éteint sa seule arête  va tomber dans l'obscurité. Comme une feuille a un seul voisin, son voisin n'est pas allumé. \r\n",
        "Le solution ne change  pas si on eteint la feuille et allume son voisin.\r\n",
        "\r\n",
        "## Il existe une nombre fini de solutions minimales \r\n",
        "La justification que le nombre de solutions minimales soit fini est très simple et elle consiste dans le fait que le nombre de sommets est fini. \r\n",
        "\r\n",
        "\r\n",
        "#### Rémarques\r\n",
        "(1) Vérifier qu'une solution est optimale est très difficile, pourtant on a trouver une algorithme O(N²) pour vérifier les solutions optimales. Sachant que les solutions optimales sont en même temps minimales on peut se restreindre à chercher les meilleurs solutions minimales pour rapprocher une solution optimale.\r\n",
        "\r\n",
        "(2) Les solutions minimales peuvent être nombreuse aussi et nécessitant un nombre très different de lampadaire. Trouver une solution minimale dans une manière déterministe est aussi compliqué que de trouver une solution optimale. Le hasard intervient naturelement dans le problème."
      ]
    },
    {
      "cell_type": "markdown",
      "metadata": {
        "id": "ljX_UyCyE5_t"
      },
      "source": [
        "\r\n",
        "## Implementations des algorithmes d'optimisation\r\n",
        "\r\n",
        "L’approche naïve consiste à tester toutes les configurations possibles (exponentiel en le nombre\r\n",
        "de sommets du graphe) pour retenir un éclairage optimal. L’éclairage systématique des sommets\r\n",
        "d’arité élevée n’est pas facile à mettre en oeuvre également.\r\n",
        "Il s’agit en effet d’un problème intrinsèquement exponentiel. \r\n",
        "\r\n",
        "Il va donc falloir renoncer à la détermination coûteuse d’un éclairage optimal ; nous allons\r\n",
        "présenter dans ce texte différentes approches conduisant plus rapidement à des solutions \"convenables\". \r\n"
      ]
    },
    {
      "cell_type": "markdown",
      "metadata": {
        "id": "dAK6kRvcqCRt"
      },
      "source": [
        "##Solution approchée par algorithme génétique\r\n",
        "\r\n",
        "\r\n",
        "L'algoritihme génétique a cinq components: l'initialisation de la population, l'évaluation de la population, la séléction d'une nouvelle population mieux adaptée, croisement des deux parents, et la mutation des chromosomes. \r\n",
        "\r\n",
        "Dans notre cas, on veut\r\n",
        "\r\n",
        "A0. Créer des graphes de solutions\r\n",
        "\r\n",
        "A1. Voir si les graphes de solutions sont minimales \r\n",
        "\r\n",
        "A2. Prends 48 de les meilleurs graphes\r\n",
        "\r\n",
        "A3. Construie 48 'enfants' avec le crossing over\r\n",
        "\r\n",
        "A4. Introduire des mutations avec 4 graphs\r\n",
        "\r\n",
        "On repete les etapes A1-A4 pour un certain nombre des générations. "
      ]
    },
    {
      "cell_type": "markdown",
      "metadata": {
        "id": "WxwGRX2fVfl1"
      },
      "source": [
        "### Complexité\r\n",
        "\r\n",
        "A0. O(R) où R est le nombre d'arêtes. \r\n",
        "switch_until_lit = O(R) et lit_maps est O(R)\r\n",
        "\r\n",
        "A1. O(RN) où N est le nombre de sommets et R est le nombre d'arêtes.\r\n",
        "check_fitness = O(RN) et check_fitness_min = O(RN)\r\n",
        "\r\n",
        "A2. O(RN) où N est le nombre de sommets et R est le nombre d'arêtes.\r\n",
        "\r\n",
        "A3. O(R)\r\n",
        "\r\n",
        "A4. O(4)\r\n",
        "\r\n",
        "La complexité de l'algorithme génétique est donc la (nombre de générations)*[O(R) + O(RN) + O(RN) + O(R) + O(4)] = nombre de générations(O(RN)) donc la complexité total est O(n^2). \r\n"
      ]
    },
    {
      "cell_type": "markdown",
      "metadata": {
        "id": "8RAAr7Sf6eIR"
      },
      "source": [
        "### A0. Créer des graphes de solutions"
      ]
    },
    {
      "cell_type": "code",
      "metadata": {
        "id": "ftR6g1-4tH0K"
      },
      "source": [
        "import numpy as np\r\n",
        "'''\r\n",
        "Randomly switch lights on until g.is_lit() == 1\r\n",
        "'''\r\n",
        "def switch_until_lit(nr_nodes, nr_edges):\r\n",
        "\r\n",
        "    #creates a graph\r\n",
        "    g = con_graf(nr_nodes,nr_edges)\r\n",
        "\r\n",
        "    #while that graph is not lit, chooses a random vertice to turn on\r\n",
        "    while (g.is_lit() != 1):\r\n",
        "        s_g = g.lit_lists()[1][random.randrange(0, nr_nodes)]\r\n",
        "        g.switch_on(s_g)\r\n",
        "    return g.lit_lists()[2], g; #returns a solution map\r\n"
      ],
      "execution_count": null,
      "outputs": []
    },
    {
      "cell_type": "code",
      "metadata": {
        "colab": {
          "base_uri": "https://localhost:8080/"
        },
        "id": "oLX7phacu923",
        "outputId": "1da152c6-aac8-4912-b826-27d4b3e917f0"
      },
      "source": [
        "switch_until_lit(4,3)[0]"
      ],
      "execution_count": null,
      "outputs": [
        {
          "output_type": "execute_result",
          "data": {
            "text/plain": [
              "[1, 0, 1, 0]"
            ]
          },
          "metadata": {
            "tags": []
          },
          "execution_count": 28
        }
      ]
    },
    {
      "cell_type": "markdown",
      "metadata": {
        "id": "gqzCM5Ve-eIp"
      },
      "source": [
        "### Complexité de switch_until_lit\r\n",
        "\r\n",
        "On a déja trouver que la compléxité de créer des graphes avec N sommets et R arêtes est O(R). \r\n",
        "\r\n",
        "Pour vérifier si le graph est allumé, la compléxité est O(R) aussi.\r\n",
        "\r\n",
        "Pour fair un switch, c'est O(1).\r\n",
        "\r\n",
        "Donc, de créer un graph de solution, switch_until_lit est O(R) + O(R) + O(1) = O(R).\r\n"
      ]
    },
    {
      "cell_type": "code",
      "metadata": {
        "id": "WTSgGRQ7v348"
      },
      "source": [
        "'''\r\n",
        "Method to print out the lists for an array\r\n",
        "'''\r\n",
        "def graph_to_list(array):\r\n",
        "    new_list_array = []\r\n",
        "    for i in range(len(array)):\r\n",
        "        new_list_array.append(array[i].lit_lists()[2])\r\n",
        "    return new_list_array;\r\n",
        "\r\n",
        "\r\n",
        "'''\r\n",
        "Generates a bunch of different solution maps that are all lit of a certain\r\n",
        "amount of nodes and vertices\r\n",
        "'''\r\n",
        "def lit_maps(size, nr_nodes, nr_edges):\r\n",
        "    pop_graphs = [];\r\n",
        "    for i in range(size):\r\n",
        "        pop_graphs.append(switch_until_lit(nr_nodes, nr_edges)[1])\r\n",
        "    return pop_graphs"
      ],
      "execution_count": null,
      "outputs": []
    },
    {
      "cell_type": "code",
      "metadata": {
        "colab": {
          "base_uri": "https://localhost:8080/"
        },
        "id": "q0POWQOVygQR",
        "outputId": "a258afdc-0bb5-4c4e-cc67-dbf8bffa7e97"
      },
      "source": [
        "population = lit_maps(10,4,3) #normally the size will be 100\r\n",
        "graph_to_list(population)"
      ],
      "execution_count": null,
      "outputs": [
        {
          "output_type": "execute_result",
          "data": {
            "text/plain": [
              "[[1, 0, 1, 0],\n",
              " [1, 1, 0, 1],\n",
              " [1, 1, 0, 1],\n",
              " [1, 0, 1, 0],\n",
              " [0, 1, 1, 1],\n",
              " [0, 1, 0, 1],\n",
              " [0, 1, 0, 1],\n",
              " [1, 0, 1, 1],\n",
              " [1, 1, 1, 0],\n",
              " [1, 1, 1, 0]]"
            ]
          },
          "metadata": {
            "tags": []
          },
          "execution_count": 30
        }
      ]
    },
    {
      "cell_type": "markdown",
      "metadata": {
        "id": "PmJDbsjTMjJG"
      },
      "source": [
        "### Complexité de lit_maps\r\n",
        "\r\n",
        "La complexité de créer plusiers graphes solution est S*O(R) ou S est la taille de la numéro de graphes solution parce-que on a vue que switch_until_lit() est O(R).\r\n"
      ]
    },
    {
      "cell_type": "markdown",
      "metadata": {
        "id": "HjTzdK0x609r"
      },
      "source": [
        "### A1. Voir si les graphes de solutions sont minimales "
      ]
    },
    {
      "cell_type": "code",
      "metadata": {
        "id": "Msw9lh9OyXz-"
      },
      "source": [
        "'''\r\n",
        "Calculates the 'fitness' of each map\r\n",
        "\r\n",
        "i.e. checks_fitness(pop) will return an array with 1 if the map is minimal and 0 if the map is not minimal\r\n",
        "'''\r\n",
        "def check_fitness(pop_graphs):\r\n",
        "    see_if_fit = [];\r\n",
        "    for i in range(len(pop_graphs)):\r\n",
        "\r\n",
        "        see_if_fit.append(pop_graphs[i].is_min_lit())\r\n",
        "        \r\n",
        "    return see_if_fit\r\n",
        "            \r\n",
        "\r\n",
        "'''\r\n",
        "Reports back the number of minimal graphs\r\n",
        "'''\r\n",
        "def check_fitness_min(pop_graphs):\r\n",
        "    min_fit = 0;\r\n",
        "    for i in range(len(pop_graphs)):\r\n",
        "        min_fit += pop_graphs[i].is_min_lit()\r\n",
        "    return min_fit"
      ],
      "execution_count": null,
      "outputs": []
    },
    {
      "cell_type": "code",
      "metadata": {
        "colab": {
          "base_uri": "https://localhost:8080/"
        },
        "id": "EYixjXTEzSCm",
        "outputId": "50a0c9a3-2c81-4c48-96b5-f0a802e975f1"
      },
      "source": [
        "\r\n",
        "# This outputs which of those graphs are minimal\r\n",
        "check_fitness(population)\r\n"
      ],
      "execution_count": null,
      "outputs": [
        {
          "output_type": "execute_result",
          "data": {
            "text/plain": [
              "[0, 0, 0, 1, 1, 1, 1, 1, 0, 0]"
            ]
          },
          "metadata": {
            "tags": []
          },
          "execution_count": 32
        }
      ]
    },
    {
      "cell_type": "code",
      "metadata": {
        "colab": {
          "base_uri": "https://localhost:8080/"
        },
        "id": "NfWMbmKQtZvU",
        "outputId": "5e3ffe17-8b72-4fd1-b5ce-e1b5b13cc42e"
      },
      "source": [
        "# This outputs the number of minimal graphs\r\n",
        "check_fitness_min(population)"
      ],
      "execution_count": null,
      "outputs": [
        {
          "output_type": "execute_result",
          "data": {
            "text/plain": [
              "5"
            ]
          },
          "metadata": {
            "tags": []
          },
          "execution_count": 33
        }
      ]
    },
    {
      "cell_type": "markdown",
      "metadata": {
        "id": "GPZ6iCHdUdDN"
      },
      "source": [
        "### Complexité de check_fitness et check_fitness_min\r\n",
        "\r\n",
        "On a vu avant que la complexité de voir si un graph est minimal est O(RN) où N est le nombre de sommets et R est le nombre d'arêtes donc check_fitness et check_fitness_min ont aussi la complexité de O(RN)."
      ]
    },
    {
      "cell_type": "markdown",
      "metadata": {
        "id": "he9k6EBR7KZ-"
      },
      "source": [
        "### A2. Prends 48 de les meilleurs graphes"
      ]
    },
    {
      "cell_type": "code",
      "metadata": {
        "id": "-0KJhSBCttEV"
      },
      "source": [
        "'''\r\n",
        "Selects the 48 best individuals\r\n",
        "'''\r\n",
        "def select_48_best(pop_graphs):\r\n",
        "    check = check_fitness(pop_graphs);\r\n",
        "    \r\n",
        "    fit = []\r\n",
        "    new_fit = []\r\n",
        "    non_minimal = []\r\n",
        "    for i in range(len(pop_graphs)):\r\n",
        "        if pop_graphs[i].is_min_lit() == 1:\r\n",
        "            fit.append(pop_graphs[i])\r\n",
        "        elif pop_graphs[i].is_min_lit() == 0:\r\n",
        "            non_minimal.append(pop_graphs[i])\r\n",
        "    \r\n",
        "    if len(fit) >= 48:\r\n",
        "        new_fit = fit[:48]\r\n",
        "  \r\n",
        "    else:\r\n",
        "        new_fit = non_minimal[:48 - len(fit)] + fit\r\n",
        "    \r\n",
        "    return new_fit"
      ],
      "execution_count": null,
      "outputs": []
    },
    {
      "cell_type": "markdown",
      "metadata": {
        "id": "eAxNe5g4eZfa"
      },
      "source": [
        "### Complexité de select_48_best\r\n",
        "\r\n",
        "check_fitness à une complexité de O(RN).\r\n",
        "\r\n",
        "Chercher pour tous les graphs minimal is_min_lit() à aussi une complexité de O(RN)*100\r\n",
        "\r\n",
        "Donc la complexité de select_48_best est O(RN)*100 = O(RN)."
      ]
    },
    {
      "cell_type": "markdown",
      "metadata": {
        "id": "cRsVZAoJ7R4w"
      },
      "source": [
        "### A3. Construie 48 'enfants' avec le crossing over"
      ]
    },
    {
      "cell_type": "code",
      "metadata": {
        "id": "loYPs0M70nd6"
      },
      "source": [
        "'''\r\n",
        "Crossing over using graphs\r\n",
        "'''\r\n",
        "def cross_over_graphs(parent_g1, parent_g2):\r\n",
        "      import copy\r\n",
        "      child_g1 = copy.deepcopy(parent_g1)\r\n",
        "      child_g2 = copy.deepcopy(parent_g2)\r\n",
        "     \r\n",
        "      chrom_length = len(parent_g1.lit_lists()[2])// 2;\r\n",
        "     \r\n",
        "      # get parent info\r\n",
        "      parent_g1_info = parent_g1.lit_lists()[2] \r\n",
        "      parent_g2_info = parent_g2.lit_lists()[2] \r\n",
        " \r\n",
        "     \r\n",
        "      for i in range(chrom_length):\r\n",
        "          if parent_g2_info[i] == 1:\r\n",
        "              child_g1.switch_on(i)\r\n",
        "          else:\r\n",
        "              child_g1.switch_off(i)\r\n",
        "     \r\n",
        "      for j in range(chrom_length):\r\n",
        "          if parent_g1_info[j] == 1:\r\n",
        "              child_g2.switch_on(j)\r\n",
        "          else:\r\n",
        "              child_g2.switch_off(j)\r\n",
        "             \r\n",
        "      return child_g1, child_g2\r\n",
        "\r\n",
        "\r\n",
        "\r\n",
        "\r\n",
        "'''\r\n",
        "48 kids created from the crossing over\r\n",
        "'''\r\n",
        "def next_gen(fit):\r\n",
        "    kids = []\r\n",
        "    for i in range(0, 48, 2):\r\n",
        "        w = cross_over_graphs(fit[i], fit[i+1])\r\n",
        "        kid1, kid2 = w[0], w[1]\r\n",
        "        kids.append(kid1)\r\n",
        "        kids.append(kid2)\r\n",
        "    return kids"
      ],
      "execution_count": null,
      "outputs": []
    },
    {
      "cell_type": "markdown",
      "metadata": {
        "id": "iGb-CjV5gOkM"
      },
      "source": [
        "### Complexité de cross_over_graphs et next_gen\r\n",
        "\r\n",
        "La complexité de calculer le taille de chromosome est O(1) et de trouver les informations avec des parents lit_lists est O(R). \r\n",
        "\r\n",
        "Pour chercher les valeurs de les parents et échanger avec les enfants, il est O(R)/2 + O(R)/2 + O(1) = O(R)"
      ]
    },
    {
      "cell_type": "markdown",
      "metadata": {
        "id": "KkfGiAvn7hTY"
      },
      "source": [
        "### A4. Introduire des mutations avec 4 graphs"
      ]
    },
    {
      "cell_type": "code",
      "metadata": {
        "id": "xWG1O4Nz1_GK"
      },
      "source": [
        "'''\r\n",
        "Mutates 4 individuals\r\n",
        "'''\r\n",
        "def mutates_4_ind(array):\r\n",
        "    mutated = []\r\n",
        "    for i in range(4):\r\n",
        "        a = array[random.randint(1, len(array)-1)];\r\n",
        "        #print(a.lit_lists()[2])\r\n",
        "        L = len(a.lit_lists()[2])\r\n",
        "        r = random.randint(1,L)-1\r\n",
        "        if a.lit_lists()[2][r] == 1:\r\n",
        "            a.switch_off(r)\r\n",
        "        else:\r\n",
        "            a.switch_on(r)                           \r\n",
        "        mutated.append(a)\r\n",
        "    return mutated"
      ],
      "execution_count": null,
      "outputs": []
    },
    {
      "cell_type": "markdown",
      "metadata": {
        "id": "IGU058YPv8Qj"
      },
      "source": [
        "### Complexité de mutates_4_ind\r\n",
        "\r\n",
        "La complexité max de faire des mutations avec quatre individus est O(4)."
      ]
    },
    {
      "cell_type": "markdown",
      "metadata": {
        "id": "L5la5hKIDlNj"
      },
      "source": [
        "##Code d'algorithme"
      ]
    },
    {
      "cell_type": "code",
      "metadata": {
        "id": "qOc-5Cn822kf",
        "colab": {
          "base_uri": "https://localhost:8080/",
          "height": 282
        },
        "outputId": "9a1e50be-9f7c-4eb5-b9e3-8e697499312d"
      },
      "source": [
        "import matplotlib.pyplot as plt\r\n",
        "\r\n",
        "\r\n",
        "num_sol_maps = 100;\r\n",
        "num_nodes = 10;\r\n",
        "num_edges = 9;\r\n",
        "num_generations = 50;\r\n",
        "\r\n",
        "sp_graphs = lit_maps(num_sol_maps, num_nodes, num_edges); \r\n",
        "#print(graph_to_list(starting_pop))\r\n",
        "\r\n",
        "#print(sp_graphs)\r\n",
        "\r\n",
        "generations = [0]\r\n",
        "\r\n",
        "minimal = [check_fitness_min(sp_graphs)];\r\n",
        "#print(\"initial\", check_fitness_min(sp_graphs))\r\n",
        "\r\n",
        "\r\n",
        "for i in range(num_generations):\r\n",
        "    \r\n",
        "    #SELECTION\r\n",
        "    best = select_48_best(sp_graphs)\r\n",
        "    np.random.shuffle(best)\r\n",
        "\r\n",
        "\r\n",
        "    #REPRODUCTION\r\n",
        "    #Here are 48 'enfants' from the best 48 individuals using crossing over\r\n",
        "    crossed = next_gen(best)\r\n",
        "    \r\n",
        "\r\n",
        "    #MUTATION\r\n",
        "    #Randomly take 4 from and mutate them from the previous generation\r\n",
        "    mutate = mutates_4_ind(sp_graphs)\r\n",
        "    \r\n",
        "    \r\n",
        "    #Add all the populations together\r\n",
        "    sp_graphs = best + crossed + mutate\r\n",
        "\r\n",
        "    np.random.shuffle(sp_graphs)\r\n",
        "    \r\n",
        "    #print(\"loop\", i + 1, check_fitness_min(sp_graphs))\r\n",
        "    \r\n",
        "    minimal.append(check_fitness_min(sp_graphs))\r\n",
        "    generations.append(i + 1)\r\n",
        "    \r\n",
        "#print(\"min\", minimal)\r\n",
        "#print(\"gen\", generations)\r\n",
        "    \r\n",
        "    \r\n",
        "plt.plot(generations, minimal)\r\n",
        "plt.xlabel('nombre de generations')\r\n",
        "plt.ylabel('nombres de graphes minimale')\r\n",
        "plt.grid()"
      ],
      "execution_count": null,
      "outputs": [
        {
          "output_type": "display_data",
          "data": {
            "image/png": "[encoded data removed]",
            "text/plain": [
              "<Figure size 432x288 with 1 Axes>"
            ]
          },
          "metadata": {
            "tags": [],
            "needs_background": "light"
          }
        }
      ]
    },
    {
      "cell_type": "markdown",
      "metadata": {
        "id": "7v1NkAvgxcAm"
      },
      "source": [
        "### Complexité de l'algorithme\r\n",
        "\r\n",
        "La complexité de l'algorithme génétique est donc la (nombre de générations)*[O(R) + O(RN) + O(RN) + O(R) + O(4)] = nombre de générations(O(RN)) donc la complexité total est O(n^2). "
      ]
    },
    {
      "cell_type": "markdown",
      "metadata": {
        "id": "Uxvw0g9RK6VR"
      },
      "source": [
        "Au moment, nous avons suivi la guide de la fiche qui nous ont dit de commencer avec 100 graphes et de trouver les 48 meilleurs individuals. Pour le futur, ca sera bien si nous pouvons généraliser pour plusiers graphes. Aussi, nous pouvons seulement utiliser notre algorithme quand le nombre de sommets N est pair parce-que nous avons en besoin quand nous divisons les graphes en deux pendant le crossing over. Pour le futur, nous pouvons désigner une systeme où on divise les graphes au hasard. Ca sera intérresant de voir comment ca change nos résultats."
      ]
    },
    {
      "cell_type": "markdown",
      "metadata": {
        "id": "vPiV32urFViz"
      },
      "source": [
        "\r\n",
        "## Algorithme partant d'un graphe completement allumé \r\n",
        "\r\n",
        "Une idée d'algorithme consiste en commencer avec un graph completment allumé, qui nous assure d'avoir un graphe éclairé au départ et d'enlever des lampadaire de façon heuristique pour conserver un éclairage jusqu’à tomber sur un éclairage minimal."
      ]
    },
    {
      "cell_type": "markdown",
      "metadata": {
        "id": "c-NLpofpN0LA"
      },
      "source": [
        "Tant que l'éclairage n'est pas minimale on choisi un élement par hasard parmi les sommets allumés et on l'éteint. Si cette action rendre le graph dans l'obsucirté on va reallumer le sommet."
      ]
    },
    {
      "cell_type": "code",
      "metadata": {
        "id": "GrlOizBENeeq"
      },
      "source": [
        "def simple_search(g):\r\n",
        "  while g.is_min_lit() == 0:\r\n",
        "      r = random.choice(list(g.vert_dict.keys())) \r\n",
        "      if g.vert_dict[r].light == 1:     \r\n",
        "          g.vert_dict[r].light =0\r\n",
        "      if g.is_lit() == 0:\r\n",
        "          g.vert_dict[r].light = 1\r\n",
        "  return g\r\n"
      ],
      "execution_count": null,
      "outputs": []
    },
    {
      "cell_type": "code",
      "metadata": {
        "colab": {
          "base_uri": "https://localhost:8080/"
        },
        "id": "r1I0e9AQP94k",
        "outputId": "b601c853-505c-48cf-a44e-437b4dcf803c"
      },
      "source": [
        "gr1 = con_graf(200,400)\r\n",
        "gr1.switch_graph_on()\r\n",
        "gr1.how_many_lights()"
      ],
      "execution_count": null,
      "outputs": [
        {
          "output_type": "execute_result",
          "data": {
            "text/plain": [
              "200"
            ]
          },
          "metadata": {
            "tags": []
          },
          "execution_count": 36
        }
      ]
    },
    {
      "cell_type": "code",
      "metadata": {
        "colab": {
          "base_uri": "https://localhost:8080/"
        },
        "id": "kBJf6zkPQVoY",
        "outputId": "1458cec1-469e-4cfa-c989-bbea8dbb28b9"
      },
      "source": [
        "simple_search(gr1)\r\n",
        "gr1.how_many_lights()"
      ],
      "execution_count": null,
      "outputs": [
        {
          "output_type": "execute_result",
          "data": {
            "text/plain": [
              "124"
            ]
          },
          "metadata": {
            "tags": []
          },
          "execution_count": 37
        }
      ]
    },
    {
      "cell_type": "markdown",
      "metadata": {
        "id": "OEDlnQbCRs6s"
      },
      "source": [
        "#### Compléxité\r\n",
        "A cause du hasard, il n'est pas facile d'éstimer la complexité.\r\n",
        "\r\n",
        "g.is_min_lit est O(N²). Le nombre d'itération peuvent être très élevé, même factoriel, car chaque fois quand on choisit un sommet on a $N_a$ possibilités, où $N_a$ est le nombre de sommets allumés. Lorsque nous trouvons les somments que nous pouvons éteindre $N_a$ devient plus petit.\r\n",
        "\r\n",
        "Nous avons vu précedement que la probabilité d'engendrer une graph éclairer est presque 0, même pour un graph avec 10 sommets et 30 arêtes. La probabilité de tomber sur un tel solution ne peut pas être élevé. On éstime que la complexité est d'ordre O(N!) ou O(exp(N)).\r\n",
        "\r\n",
        "Nous allons voire comment rendre cette méthode beaucoup plus convenable en uitilisant des informations que nous connaisons sur le problème."
      ]
    },
    {
      "cell_type": "markdown",
      "metadata": {
        "id": "LYEcRMwSOfIr"
      },
      "source": [
        "Nous pouvons apporter des modifications qui réduiront beaucoup le temps et donneront de meilleures solutions (moins de lampadaires)."
      ]
    },
    {
      "cell_type": "markdown",
      "metadata": {
        "id": "iD2MWn7XRKNU"
      },
      "source": [
        "Tout d'abord, observez que les sommets mieux connectés éclaircissent plus d'arêtes. On va distribuer une probabilité de manière à préférer éteindre les sommets relativement mal connectés. De plus, nous avons montré que chaque solution optimale peut avoir ses feuilles éteints. Nous allons donc les éteindre au debut.\r\n",
        "\r\n",
        "Une information très important se cache dans la méthode de vérifier si le graphe est éclairé d'une manière minimale. Si le graphe est éclairer elle va éteindre les sommets allumés un par un jusqu'a elle trouve un lampadaire superflu(si éteint, l'éclairage ne change pas). Qui est éxactement le type de lampadaire que nous voulons enlever. Observer la différence entre les deux méthodes."
      ]
    },
    {
      "cell_type": "markdown",
      "metadata": {
        "id": "CVxkXntibIwd"
      },
      "source": [
        "def is_min_lit(self):\r\n",
        "        #enlever un lampadaire plonge au moins une rue dans l'obscurite\r\n",
        "        if self.is_lit() == 0:\r\n",
        "            return 0\r\n",
        "        ok = 1\r\n",
        "        for node in self.vert_dict.keys():\r\n",
        "            if self.vert_dict[node].light == 1:\r\n",
        "                self.switch_off(node)\r\n",
        "                if self.is_lit() == 1:\r\n",
        "                    ok = 0\r\n",
        "                self.switch_on(node)\r\n",
        "        return ok"
      ]
    },
    {
      "cell_type": "markdown",
      "metadata": {
        "id": "FrSnLoXSbfSU"
      },
      "source": [
        "def is_min_lit_special(self):\r\n",
        "\r\n",
        "        #enlever un lampadaire plonge au moins une rue dans l'obscurite\r\n",
        "        if self.is_lit() == 0:\r\n",
        "            return 0\r\n",
        "\r\n",
        "        for node in self.vert_dict.keys():\r\n",
        "            if self.vert_dict[node].light == 1:\r\n",
        "                self.switch_off(node)\r\n",
        "                if self.is_lit() == 1:\r\n",
        "                    return 0\r\n",
        "                self.switch_on(node)\r\n",
        "        return 1"
      ]
    },
    {
      "cell_type": "markdown",
      "metadata": {
        "id": "xqcFu8ALb21H"
      },
      "source": [
        "La première laisse le graphe inchangé.\r\n",
        "\r\n",
        "La deuxieme éteint le premiére lampadaire superflu trouvé, qui va beaucoup accéleré notre récherche. De plus, nous allons observer une amelioration de la qualité des graphes minimaux trouvés."
      ]
    },
    {
      "cell_type": "code",
      "metadata": {
        "id": "7mEK-72JdsLk"
      },
      "source": [
        "def search_min(g):\r\n",
        "    adj_dic = {}\r\n",
        "    ##counting the edges each node has to help define our probability distribution\r\n",
        "    ## taking into account the minimum, average and maximum number of connections\r\n",
        "    M = 0\r\n",
        "    m = 10**1000\r\n",
        "    S = 0\r\n",
        "    j = 0\r\n",
        "    for i in g.vert_dict.keys():\r\n",
        "        l = len(g.vert_dict[i].adjacent)\r\n",
        "        adj_dic[i] = l\r\n",
        "        if l > M:\r\n",
        "            M = l\r\n",
        "        if l < m:\r\n",
        "            m = l\r\n",
        "        S = S + l\r\n",
        "        j+=1\r\n",
        "        \r\n",
        "        if len(g.vert_dict[i].adjacent) == 1:\r\n",
        "            g.vert_dict[i].light = 0\r\n",
        "    \r\n",
        "    Avg = S/j\r\n",
        "\r\n",
        "    ##accounting for the case where Avg == m == Max\r\n",
        "    ## this is the case when the all nodes have the same number of connections\r\n",
        "   \r\n",
        "    if Avg == m:\r\n",
        "        while g.is_min_lit_special() == 0:\r\n",
        "            r = random.choice(list(g.vert_dict.keys())) \r\n",
        "            if g.vert_dict[r].light == 1:\r\n",
        "                if adj_dic[r] <= Avg:\r\n",
        "                    # proba = 0.1 + 0.4/Avg-m (x-m)\r\n",
        "                    if random.random() >0.1 + (0.4/(Avg-m +1))*(adj_dic[r]-m):\r\n",
        "                        g.vert_dict[r].light =0\r\n",
        "              \r\n",
        "        \r\n",
        "            if g.is_lit() == 0:\r\n",
        "                g.vert_dict[r].light = 1\r\n",
        "        \r\n",
        "    #### the general case now\r\n",
        "\r\n",
        "    while g.is_min_lit_special() == 0:\r\n",
        "        r = random.choice(list(g.vert_dict.keys())) \r\n",
        "        if g.vert_dict[r].light == 1:\r\n",
        "            if adj_dic[r] <= Avg:\r\n",
        "                # proba = 0.1 + 0.4/Avg-m (x-m)\r\n",
        "                if random.random() >0.1 + (0.4/(Avg-m))*(adj_dic[r]-m):\r\n",
        "                    g.vert_dict[r].light =0\r\n",
        "            elif adj_dic[r] > Avg:\r\n",
        "                #proba = 0.5 + 0.4/(M-Avg) (x-Avg)\r\n",
        "                if random.random() > 0.5 + ((0.4)/(M-Avg))*(adj_dic[r]- Avg):\r\n",
        "                    g.vert_dict[r].light = 0\r\n",
        "        \r\n",
        "        if g.is_lit() == 0:\r\n",
        "            g.vert_dict[r].light = 1\r\n",
        "            \r\n",
        "    return g\r\n",
        "\r\n"
      ],
      "execution_count": null,
      "outputs": []
    },
    {
      "cell_type": "markdown",
      "metadata": {
        "id": "z2IcPvRKgnwf"
      },
      "source": [
        "gr1 est un graphe avec 200 sommets et 400 arêtes qui on a défini au dessus. Dans ce qui suit on engendra des graph de tailles differentes pour comparer les deux fonctions 'simple_search' et 'search_min'. On utilise la méthode switch_graph_on afin d'allumer tous les lampadaire, la méthode how_many_lights pour vérifier combien de lampadaires sont allumés. "
      ]
    },
    {
      "cell_type": "code",
      "metadata": {
        "colab": {
          "base_uri": "https://localhost:8080/"
        },
        "id": "Z3eq30lwfspI",
        "outputId": "17faa51c-299f-4a3f-d268-49a099d3d9f5"
      },
      "source": [
        "gr1.switch_graph_on()\r\n",
        "gr1.how_many_lights()"
      ],
      "execution_count": null,
      "outputs": [
        {
          "output_type": "execute_result",
          "data": {
            "text/plain": [
              "200"
            ]
          },
          "metadata": {
            "tags": []
          },
          "execution_count": 39
        }
      ]
    },
    {
      "cell_type": "code",
      "metadata": {
        "colab": {
          "base_uri": "https://localhost:8080/"
        },
        "id": "N2nJ65xRgBlC",
        "outputId": "4db77720-7cc3-4ea0-dfe0-95519a7b88b4"
      },
      "source": [
        "search_min(gr1)\r\n",
        "print(gr1.how_many_lights())"
      ],
      "execution_count": null,
      "outputs": [
        {
          "output_type": "stream",
          "text": [
            "121\n"
          ],
          "name": "stdout"
        }
      ]
    },
    {
      "cell_type": "markdown",
      "metadata": {
        "id": "XW0Ak7JZhiVZ"
      },
      "source": [
        "Dans les cellules suivantes, nous calculons les temps d'exécution de nos deux méthodes pour des graphes de tailles différentes. Ensuite, nous afficherons les comparaisons de temps."
      ]
    },
    {
      "cell_type": "code",
      "metadata": {
        "colab": {
          "base_uri": "https://localhost:8080/"
        },
        "id": "aWoNnfGyf1tM",
        "outputId": "6b41fc7b-6729-4d7e-eafe-5432a7773f9c"
      },
      "source": [
        "gr2 = con_graf(500, 800)\r\n",
        "gr2.switch_graph_on()\r\n",
        "gr2.how_many_lights()"
      ],
      "execution_count": null,
      "outputs": [
        {
          "output_type": "execute_result",
          "data": {
            "text/plain": [
              "500"
            ]
          },
          "metadata": {
            "tags": []
          },
          "execution_count": 41
        }
      ]
    },
    {
      "cell_type": "code",
      "metadata": {
        "colab": {
          "base_uri": "https://localhost:8080/"
        },
        "id": "YyHiUr61gQ3C",
        "outputId": "bfe6b5c0-63f1-4d42-94a2-18e67e02c823"
      },
      "source": [
        "import time\r\n",
        "\r\n",
        "gr2.switch_graph_on()\r\n",
        "start = time.time()\r\n",
        "search_min(gr2)\r\n",
        "end = time.time()\r\n",
        "T1 = end - start \r\n",
        "print(end - start)\r\n"
      ],
      "execution_count": null,
      "outputs": [
        {
          "output_type": "stream",
          "text": [
            "5.468322277069092\n"
          ],
          "name": "stdout"
        }
      ]
    },
    {
      "cell_type": "code",
      "metadata": {
        "colab": {
          "base_uri": "https://localhost:8080/"
        },
        "id": "Fd3fnuGHjrLt",
        "outputId": "d5209f07-0dc1-4872-a76e-b0beded88137"
      },
      "source": [
        "gr2.switch_graph_on()\r\n",
        "start2 = time.time()\r\n",
        "simple_search(gr2)\r\n",
        "end2 = time.time()\r\n",
        "T2 = end2 - start2\r\n",
        "print(end2 - start2)"
      ],
      "execution_count": null,
      "outputs": [
        {
          "output_type": "stream",
          "text": [
            "195.41065430641174\n"
          ],
          "name": "stdout"
        }
      ]
    },
    {
      "cell_type": "code",
      "metadata": {
        "id": "T3OxUjpLSU8I"
      },
      "source": [
        "gr3 = con_graf(100, 300)\r\n",
        "gr3.switch_graph_on()\r\n",
        "gr4 = con_graf(300, 600)\r\n",
        "gr4.switch_graph_on()"
      ],
      "execution_count": null,
      "outputs": []
    },
    {
      "cell_type": "code",
      "metadata": {
        "colab": {
          "base_uri": "https://localhost:8080/"
        },
        "id": "g4I0wSrMSVVV",
        "outputId": "cecf3d05-f377-4b0b-cf4f-46bf76e5fbe5"
      },
      "source": [
        "\r\n",
        "\r\n",
        "gr3.switch_graph_on()\r\n",
        "start = time.time()\r\n",
        "search_min(gr3)\r\n",
        "end = time.time()\r\n",
        "T_gr3_1 = end - start \r\n",
        "print(end - start)\r\n"
      ],
      "execution_count": null,
      "outputs": [
        {
          "output_type": "stream",
          "text": [
            "0.09091305732727051\n"
          ],
          "name": "stdout"
        }
      ]
    },
    {
      "cell_type": "code",
      "metadata": {
        "colab": {
          "base_uri": "https://localhost:8080/"
        },
        "id": "3p5pZerrSziN",
        "outputId": "30c3fb5f-9f25-4a09-9e40-00fde0b55901"
      },
      "source": [
        "import time\r\n",
        "\r\n",
        "gr3.switch_graph_on()\r\n",
        "start = time.time()\r\n",
        "simple_search(gr3)\r\n",
        "end = time.time()\r\n",
        "T_gr3_2 = end - start \r\n",
        "print(end - start)\r\n"
      ],
      "execution_count": null,
      "outputs": [
        {
          "output_type": "stream",
          "text": [
            "1.4412338733673096\n"
          ],
          "name": "stdout"
        }
      ]
    },
    {
      "cell_type": "code",
      "metadata": {
        "colab": {
          "base_uri": "https://localhost:8080/"
        },
        "id": "pFhghi7fThrs",
        "outputId": "8e5ad368-50fe-43a4-8b34-d71750b921e5"
      },
      "source": [
        "gr4.switch_graph_on()\r\n",
        "start = time.time()\r\n",
        "search_min(gr4)\r\n",
        "end = time.time()\r\n",
        "T_gr4_1 = end - start \r\n",
        "print(end - start)"
      ],
      "execution_count": null,
      "outputs": [
        {
          "output_type": "stream",
          "text": [
            "1.7306714057922363\n"
          ],
          "name": "stdout"
        }
      ]
    },
    {
      "cell_type": "code",
      "metadata": {
        "colab": {
          "base_uri": "https://localhost:8080/"
        },
        "id": "NjyCQCZDTqln",
        "outputId": "ce08f2fa-979c-48ec-d898-45037ca0e3d7"
      },
      "source": [
        "gr4.switch_graph_on()\r\n",
        "start = time.time()\r\n",
        "simple_search(gr4)\r\n",
        "end = time.time()\r\n",
        "T_gr4_2 = end - start \r\n",
        "print(end - start)"
      ],
      "execution_count": null,
      "outputs": [
        {
          "output_type": "stream",
          "text": [
            "48.15314269065857\n"
          ],
          "name": "stdout"
        }
      ]
    },
    {
      "cell_type": "markdown",
      "metadata": {
        "id": "xiTyK3XqqqjP"
      },
      "source": [
        "### Comparaison de temps\r\n",
        "\r\n",
        "La difference de temps est impressionant"
      ]
    },
    {
      "cell_type": "code",
      "metadata": {
        "colab": {
          "base_uri": "https://localhost:8080/"
        },
        "id": "yJ57D2s2gwdX",
        "outputId": "a7fa2b6f-c52d-4401-9314-d4f261c8b3ac"
      },
      "source": [
        "\r\n",
        "\r\n",
        "print('La comparaison de temps pour un graphe avec', gr3.num_vertices,'sommets et',len(gr3.edges), 'arêtes')\r\n",
        "print('Le temps pour la méthode simple:',T_gr3_2,'s', 'vs', T_gr3_1,'s','pour la méthode améliorée')\r\n",
        "print()\r\n",
        "print('La comparaison de temps pour un graphe avec', gr4.num_vertices,'sommets et',len(gr4.edges), 'arêtes')\r\n",
        "print('Le temps pour la méthode simple:',T_gr4_2,'s', 'vs', T_gr4_1,'s','pour la méthode améliorée')\r\n",
        "print()\r\n",
        "print('La comparaison de temps pour un graphe avec', gr2.num_vertices,'sommets et',len(gr2.edges), 'arêtes')\r\n",
        "print('Le temps pour la méthode simple:',T2,'s', 'vs', T1,'s','pour la méthode améliorée')\r\n",
        "\r\n"
      ],
      "execution_count": null,
      "outputs": [
        {
          "output_type": "stream",
          "text": [
            "La comparaison de temps pour un graphe avec 100 sommets et 300 arêtes\n",
            "Le temps pour la méthode simple: 1.4412338733673096 s vs 0.09091305732727051 s pour la méthode améliorée\n",
            "\n",
            "La comparaison de temps pour un graphe avec 300 sommets et 600 arêtes\n",
            "Le temps pour la méthode simple: 48.15314269065857 s vs 1.7306714057922363 s pour la méthode améliorée\n",
            "\n",
            "La comparaison de temps pour un graphe avec 500 sommets et 800 arêtes\n",
            "Le temps pour la méthode simple: 195.41065430641174 s vs 5.468322277069092 s pour la méthode améliorée\n"
          ],
          "name": "stdout"
        }
      ]
    },
    {
      "cell_type": "markdown",
      "metadata": {
        "id": "Ax-EjZZ6hMgk"
      },
      "source": [
        "### Estimer la complexité d'algorthme amélioré\r\n",
        "\r\n",
        "Nous avons éstimé que la complexité de vérifier si une solution est minimale est O(RN) ou R est le nombre d'arêtes et N le nombre de sommets. Nous éstimons d'abord que la complexité de notre algorthme amélioré est O(RN²)\r\n",
        "\r\n",
        "Nous allons comparer le temps du algorithm avec un algoritm O(N^3), par example 3 boucle for."
      ]
    },
    {
      "cell_type": "code",
      "metadata": {
        "colab": {
          "base_uri": "https://localhost:8080/"
        },
        "id": "ZUcwnBKWic3v",
        "outputId": "78b566b8-ce29-4860-8845-e2f67cf00589"
      },
      "source": [
        "start = time.time()\r\n",
        "for i in range(600):\r\n",
        "    for i in range(600):\r\n",
        "        for i in range(600):\r\n",
        "            2*2\r\n",
        "end = time.time()\r\n",
        "T_for = end - start \r\n",
        "print('un temps O(N**3) pour N =600 est', end - start)"
      ],
      "execution_count": null,
      "outputs": [
        {
          "output_type": "stream",
          "text": [
            "un temps O(N**3) pour N =600 est 7.368931531906128\n"
          ],
          "name": "stdout"
        }
      ]
    },
    {
      "cell_type": "code",
      "metadata": {
        "colab": {
          "base_uri": "https://localhost:8080/"
        },
        "id": "RDbHQz8ki8LS",
        "outputId": "fad24085-2b3a-4c9e-b57b-53bda6d69d24"
      },
      "source": [
        "test = con_graf(600,900)\r\n",
        "test.switch_graph_on()\r\n",
        "start = time.time()\r\n",
        "search_min(test)\r\n",
        "end = time.time()\r\n",
        "T_test = end - start \r\n",
        "print('temps de la méthode', end - start)\r\n",
        "\r\n",
        "if test.is_min_lit() == 1:\r\n",
        "  print('Le graphe de 600 sommets et 900 arêtes est éclairé avec', test.how_many_lights(), 'lampadaires' )\r\n"
      ],
      "execution_count": null,
      "outputs": [
        {
          "output_type": "stream",
          "text": [
            "temps de la méthode 7.355985879898071\n",
            "Le graphe de 600 sommets et 900 arêtes est éclairé avec 320 lampadaires\n"
          ],
          "name": "stdout"
        }
      ]
    },
    {
      "cell_type": "markdown",
      "metadata": {
        "id": "xJfsxbGNQQH0"
      },
      "source": [
        "### Approcher une solution optimale\r\n",
        "\r\n",
        "Nous allons utiliser l'algorithme améliorée pour approximer une solution optimale. D'abord on calcule plusieure solutions minimale et garde la solution avec le plus petit nombre de lampadaire. "
      ]
    },
    {
      "cell_type": "code",
      "metadata": {
        "id": "elnEk_cHUGXb"
      },
      "source": [
        "def search_opt(g):\r\n",
        "    nr_list = []\r\n",
        "    for i in range(200):\r\n",
        "        search_min(g)\r\n",
        "        nr_list.append(g.how_many_lights())\r\n",
        "        g.switch_graph_on()\r\n",
        "    return min(nr_list)"
      ],
      "execution_count": null,
      "outputs": []
    },
    {
      "cell_type": "markdown",
      "metadata": {
        "id": "0qAmZ1-IoL3A"
      },
      "source": [
        "### Une relation identifiée\r\n",
        "\r\n",
        "En essayant de miex comprendre les solutions minimales et optimales nous avons remarqué une dépendece interrésante entre le nombre de sommets, le nombre moyen de connexions de chaque sommets et le nombre de lampadaires allumés dans une solution proche d'une solution optimale.\r\n",
        "\r\n"
      ]
    },
    {
      "cell_type": "code",
      "metadata": {
        "id": "H-YZXmDUtWjN"
      },
      "source": [
        "def search_min_plot(g):\r\n",
        "    adj_dic = {}\r\n",
        "    ##counting the edges each node has\r\n",
        "    M = 0\r\n",
        "    m = 10**1000\r\n",
        "    S = 0\r\n",
        "    j = 0\r\n",
        "    for i in g.vert_dict.keys():\r\n",
        "        l = len(g.vert_dict[i].adjacent)\r\n",
        "        adj_dic[i] = len(g.vert_dict[i].adjacent)\r\n",
        "        if l > M:\r\n",
        "            M = l\r\n",
        "        if l < m:\r\n",
        "            m = l\r\n",
        "        S = S + l\r\n",
        "        j+=1\r\n",
        "        \r\n",
        "        if len(g.vert_dict[i].adjacent) == 1:\r\n",
        "            g.vert_dict[i].light = 0\r\n",
        "    \r\n",
        "    Avg = S/j\r\n",
        "    # print('avg = ', Avg)\r\n",
        "    # print('m=',m)\r\n",
        "    # print('M=',M)\r\n",
        "    if Avg == m:\r\n",
        "        while g.is_min_lit_special() == 0:\r\n",
        "            r = random.choice(list(g.vert_dict.keys())) #complexity???? O(n)\r\n",
        "            if g.vert_dict[r].light == 1:\r\n",
        "                if adj_dic[r] <= Avg:\r\n",
        "                    # p = 0.1 + 0.4/b-a (x-a)\r\n",
        "                    if random.random() >0.1 + (0.4/(Avg-m +1))*(adj_dic[r]-m):\r\n",
        "                        g.vert_dict[r].light =0\r\n",
        "                # elif adj_dic[r] > Avg:\r\n",
        "                #     #p = 0.5 + 0.4/(c-b) (x-b)\r\n",
        "                #     if random.random() > 0.5 + ((0.4)/(M-Avg))*(adj_dic[r]- Avg):\r\n",
        "                #         g.vert_dict[r].light = 0\r\n",
        "        \r\n",
        "            if g.is_lit() == 0:\r\n",
        "                g.vert_dict[r].light = 1\r\n",
        "        \r\n",
        "    \r\n",
        "    while g.is_min_lit_special() == 0:\r\n",
        "        r = random.choice(list(g.vert_dict.keys())) #complexity???? O(n)\r\n",
        "        if g.vert_dict[r].light == 1:\r\n",
        "            if adj_dic[r] <= Avg:\r\n",
        "                # p = 0.1 + 0.4/b-a (x-a)\r\n",
        "                if random.random() >0.1 + (0.4/(Avg-m))*(adj_dic[r]-m):\r\n",
        "                    g.vert_dict[r].light =0\r\n",
        "            elif adj_dic[r] > Avg:\r\n",
        "                #p = 0.5 + 0.4/(c-b) (x-b)\r\n",
        "                if random.random() > 0.5 + ((0.4)/(M-Avg))*(adj_dic[r]- Avg):\r\n",
        "                    g.vert_dict[r].light = 0\r\n",
        "        \r\n",
        "        if g.is_lit() == 0:\r\n",
        "            g.vert_dict[r].light = 1\r\n",
        "          \r\n",
        "    \r\n",
        "    \r\n",
        "    \r\n",
        "    return g, Avg, g.how_many_lights()"
      ],
      "execution_count": null,
      "outputs": []
    },
    {
      "cell_type": "code",
      "metadata": {
        "colab": {
          "base_uri": "https://localhost:8080/",
          "height": 295
        },
        "id": "C5PqDel9tZSZ",
        "outputId": "17eec0cd-7995-4437-f9e4-a15428812097"
      },
      "source": [
        "import matplotlib\r\n",
        "import matplotlib.pyplot as plt\r\n",
        "import numpy as np\r\n",
        "\r\n",
        "def plot_sol(V):\r\n",
        "    X = []\r\n",
        "    Y = []\r\n",
        "    for i in range(2*V, (V-1)*V//2, V//2 ):\r\n",
        "        gr = con_graf(V, i)\r\n",
        "        gr.switch_graph_on()\r\n",
        "        X.append(search_min_plot(gr)[1])\r\n",
        "        Y.append(search_min_plot(gr)[2])\r\n",
        "        \r\n",
        "    return X,Y\r\n",
        "\r\n",
        "V = 100\r\n",
        "\r\n",
        "t = np.array(plot_sol(V)[0])\r\n",
        "s = np.array(plot_sol(V)[1])\r\n",
        "\r\n",
        "\r\n",
        "\r\n",
        "s1 =  (t-2)*V/t  #1 + np.sin(2 * np.pi * t)\r\n",
        "\r\n",
        "\r\n",
        "s2 = (t-1.2)*V/t\r\n",
        "\r\n",
        "fig, ax = plt.subplots()\r\n",
        "ax.plot(t, s, label = 'data')\r\n",
        "ax.plot(t,s1, label = '(Avg-2)Nr_Vert/Avg')\r\n",
        "#ax.plot(t,s2, label = '(Avg-2)Nr_Vert/Avg')\r\n",
        "\r\n",
        "\r\n",
        "ax.set(xlabel='nombre moyen de connexions', ylabel='Nombre de lampes dans un éclairage minimale ',\r\n",
        "       title='Dependence pour les graphes connexes de 100 sommets')\r\n",
        "ax.grid()\r\n",
        "\r\n",
        "fig.savefig(\"test.png\")\r\n",
        "plt.legend()\r\n",
        "plt.show()\r\n"
      ],
      "execution_count": null,
      "outputs": [
        {
          "output_type": "display_data",
          "data": {
            "image/png": "[encoded data removed]",
            "text/plain": [
              "<Figure size 432x288 with 1 Axes>"
            ]
          },
          "metadata": {
            "tags": [],
            "needs_background": "light"
          }
        }
      ]
    }
  ]
}